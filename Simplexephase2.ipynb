{
  "nbformat": 4,
  "nbformat_minor": 0,
  "metadata": {
    "colab": {
      "provenance": []
    },
    "kernelspec": {
      "name": "python3",
      "display_name": "Python 3"
    },
    "language_info": {
      "name": "python"
    }
  },
  "cells": [
    {
      "cell_type": "code",
      "execution_count": 53,
      "metadata": {
        "id": "UmwaJ5cXMn6q"
      },
      "outputs": [],
      "source": [
        "import numpy as np"
      ]
    },
    {
      "cell_type": "code",
      "source": [
        "f=lambda i:np.inf if i<0 else i"
      ],
      "metadata": {
        "id": "z1EzctJg-146"
      },
      "execution_count": 54,
      "outputs": []
    },
    {
      "cell_type": "code",
      "source": [
        "def indicesPivot(A_new,m):\n",
        "  #get pivot's column position in A_new\n",
        "  col_pivot=None\n",
        "  for i in range(m):\n",
        "    if(A_new.copy()[-1,i]<0):\n",
        "      col_pivot=i\n",
        "      break\n",
        "  v=A_new[:-1,col_pivot].copy()\n",
        "  v.reshape(-1,)  \n",
        "  b_sur_v = A_new[:-1,-1].copy()/ v.copy() \n",
        "  b_sur_v=np.array(list(map(f,b_sur_v.copy())))\n",
        "  ligne_pivot=np.argmin(b_sur_v)\n",
        "  return (ligne_pivot,col_pivot)\n",
        "    "
      ],
      "metadata": {
        "id": "9F1Zwtz7Zros"
      },
      "execution_count": 55,
      "outputs": []
    },
    {
      "cell_type": "code",
      "source": [
        "def GetP(A_new,ligne_pivot,col_pivot):\n",
        "  #initialing the matrice P for change\n",
        "  P=np.identity(A_new.shape[0])\n",
        "  #preparing the matrice P\n",
        "  for i in range(A_new.shape[0]):\n",
        "    P[i,ligne_pivot]=-A_new[i,col_pivot].copy()/A_new[ligne_pivot,col_pivot].copy()\n",
        "  P[ligne_pivot,ligne_pivot]=1/(A_new[ligne_pivot,col_pivot].copy())\n",
        "  return P\n"
      ],
      "metadata": {
        "id": "0F6iNohIbf2l"
      },
      "execution_count": 56,
      "outputs": []
    },
    {
      "cell_type": "code",
      "source": [
        "def optimal(A_new):\n",
        "  for i in range(c.shape[0]):\n",
        "    if(A_new.copy()[-1,i]<0):\n",
        "      return False\n",
        "  return True"
      ],
      "metadata": {
        "id": "g4GB0Fi7h7CI"
      },
      "execution_count": 57,
      "outputs": []
    },
    {
      "cell_type": "code",
      "source": [
        "#AX<=b\n",
        "A = [[1, 3],[1, 1]] \n",
        "b = [6,2]\n",
        "#Max <c,X>\n",
        "c = [-1, -2]\n"
      ],
      "metadata": {
        "id": "7YXjB_IUMw8k"
      },
      "execution_count": 58,
      "outputs": []
    },
    {
      "cell_type": "code",
      "source": [
        "n=len(A)\n",
        "n+=1\n",
        "m=len(c)\n",
        "Biases=[i for i in range(m+1,n+m)]\n",
        "c=c+[0]*n\n",
        "A=np.array(A)\n",
        "b=np.array(b)\n",
        "c=np.array(c)\n",
        "A_new = np.concatenate((A, np.identity(A.shape[0])), axis=1)\n",
        "A_new=np.c_[A_new,b]\n",
        "A_new=np.vstack((A_new, c))\n",
        "(ligne_pivot,col_pivot)=indicesPivot(A_new,m)"
      ],
      "metadata": {
        "id": "AmxCYpJR_ApY"
      },
      "execution_count": 59,
      "outputs": []
    },
    {
      "cell_type": "code",
      "source": [
        "#get pivot's ligne position in A_new"
      ],
      "metadata": {
        "id": "7E5hOdihaE6W"
      },
      "execution_count": 60,
      "outputs": []
    },
    {
      "cell_type": "code",
      "source": [
        "#Programme principal\n",
        "while(True):\n",
        "  #Si optimal\n",
        "  if(optimal(A_new)):\n",
        "    print(\"Problem Optimal!\")\n",
        "    for i in range(len(Biases)):\n",
        "      print(f\"x{Biases[i]} = {A_new[:-1,-1].copy()[i]}\")\n",
        "    break\n",
        "  else:\n",
        "    ligne_pivot,col_pivot=indicesPivot(A_new,m)\n",
        "    Biases[ligne_pivot]=col_pivot+1\n",
        "    P=GetP(A_new.copy(),ligne_pivot,col_pivot)\n",
        "    A_new=np.dot(P,A_new.copy())"
      ],
      "metadata": {
        "id": "mVogGFi8gCDX",
        "colab": {
          "base_uri": "https://localhost:8080/"
        },
        "outputId": "6c2302fd-3519-4189-a4d2-af5dc2dee8d7"
      },
      "execution_count": 61,
      "outputs": [
        {
          "output_type": "stream",
          "name": "stdout",
          "text": [
            "Problem Optimal!\n",
            "x2 = 2.0\n",
            "x1 = 0.0\n"
          ]
        }
      ]
    }
  ]
}